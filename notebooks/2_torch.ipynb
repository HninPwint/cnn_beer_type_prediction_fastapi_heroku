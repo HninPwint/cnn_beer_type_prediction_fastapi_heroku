{
 "cells": [
  {
   "cell_type": "code",
   "execution_count": 1,
   "metadata": {},
   "outputs": [],
   "source": [
    "artefact_prefix = '2_pytorch'\n",
    "target = 'beer_style'"
   ]
  },
  {
   "cell_type": "code",
   "execution_count": 2,
   "metadata": {},
   "outputs": [],
   "source": [
    "from dotenv import find_dotenv\n",
    "from datetime import datetime\n",
    "import pandas as pd\n",
    "from pathlib import Path\n",
    "import numpy as np\n",
    "import torch\n",
    "import torch.nn as nn\n",
    "import torch.nn.functional as F\n",
    "from torch.utils.data import Dataset, DataLoader\n",
    "from category_encoders.binary import BinaryEncoder\n",
    "from sklearn.metrics import confusion_matrix\n",
    "from sklearn.metrics import classification_report\n",
    "from sklearn.pipeline import Pipeline\n",
    "from sklearn.preprocessing import StandardScaler, LabelEncoder, OneHotEncoder\n",
    "from joblib import dump, load\n",
    "\n",
    "# from src.data.sets import merge_categories\n",
    "# from src.data.sets import save_sets\n",
    "from src.data.sets import load_sets \n",
    "# from src.data.sets import split_sets_random\n",
    "# from src.data.sets import test_class_exclusion\n",
    "# from src.models.performance import convert_cr_to_dataframe\n",
    "\n",
    "from src.models.pytorch import PytorchClassification_2\n",
    "from src.models.pytorch import get_device\n",
    "from src.models.pytorch import train_classification\n",
    "from src.models.pytorch import test_classification\n",
    "from src.models.pytorch import PytorchDataset\n",
    "from src.models.pipes import create_preprocessing_pipe\n",
    "from src.visualization.visualize import plot_confusion_matrix"
   ]
  },
  {
   "cell_type": "markdown",
   "metadata": {},
   "source": [
    "### Directory Set up"
   ]
  },
  {
   "cell_type": "code",
   "execution_count": 3,
   "metadata": {},
   "outputs": [],
   "source": [
    "project_dir = Path(find_dotenv()).parent\n",
    "data_dir = project_dir / 'data'\n",
    "raw_data_dir = data_dir / 'raw'\n",
    "interim_data_dir = data_dir / 'interim'\n",
    "processed_data_dir = data_dir / 'processed'\n",
    "reports_dir = project_dir / 'reports'\n",
    "models_dir = project_dir / 'models'"
   ]
  },
  {
   "cell_type": "code",
   "execution_count": 4,
   "metadata": {},
   "outputs": [
    {
     "data": {
      "text/plain": [
       "PosixPath('/home/jovyan/work/data/processed')"
      ]
     },
     "execution_count": 4,
     "metadata": {},
     "output_type": "execute_result"
    }
   ],
   "source": [
    "processed_data_dir"
   ]
  },
  {
   "cell_type": "markdown",
   "metadata": {},
   "source": [
    "### Load Save Data"
   ]
  },
  {
   "cell_type": "code",
   "execution_count": 4,
   "metadata": {},
   "outputs": [],
   "source": [
    "## Panda Data type\n",
    "from src.data.sets import load_sets \n",
    "\n",
    "X_train, X_test, X_val, y_train, y_test, y_val = load_sets()"
   ]
  },
  {
   "cell_type": "code",
   "execution_count": 5,
   "metadata": {},
   "outputs": [
    {
     "data": {
      "text/plain": [
       "104"
      ]
     },
     "execution_count": 5,
     "metadata": {},
     "output_type": "execute_result"
    }
   ],
   "source": [
    "y_train['beer_style'].nunique()"
   ]
  },
  {
   "cell_type": "code",
   "execution_count": 6,
   "metadata": {},
   "outputs": [
    {
     "data": {
      "text/html": [
       "<div>\n",
       "<style scoped>\n",
       "    .dataframe tbody tr th:only-of-type {\n",
       "        vertical-align: middle;\n",
       "    }\n",
       "\n",
       "    .dataframe tbody tr th {\n",
       "        vertical-align: top;\n",
       "    }\n",
       "\n",
       "    .dataframe thead th {\n",
       "        text-align: right;\n",
       "    }\n",
       "</style>\n",
       "<table border=\"1\" class=\"dataframe\">\n",
       "  <thead>\n",
       "    <tr style=\"text-align: right;\">\n",
       "      <th></th>\n",
       "      <th>brewery_name</th>\n",
       "      <th>review_aroma</th>\n",
       "      <th>review_appearance</th>\n",
       "      <th>review_palate</th>\n",
       "      <th>review_taste</th>\n",
       "    </tr>\n",
       "  </thead>\n",
       "  <tbody>\n",
       "    <tr>\n",
       "      <th>0</th>\n",
       "      <td>Kirin Brewery Company, Limited</td>\n",
       "      <td>1.5</td>\n",
       "      <td>3.0</td>\n",
       "      <td>3.0</td>\n",
       "      <td>3.5</td>\n",
       "    </tr>\n",
       "    <tr>\n",
       "      <th>1</th>\n",
       "      <td>Huisbrouwerij Klein Duimpje</td>\n",
       "      <td>3.0</td>\n",
       "      <td>4.0</td>\n",
       "      <td>3.5</td>\n",
       "      <td>3.5</td>\n",
       "    </tr>\n",
       "    <tr>\n",
       "      <th>2</th>\n",
       "      <td>Southampton Publick House</td>\n",
       "      <td>3.0</td>\n",
       "      <td>3.5</td>\n",
       "      <td>4.0</td>\n",
       "      <td>3.5</td>\n",
       "    </tr>\n",
       "    <tr>\n",
       "      <th>3</th>\n",
       "      <td>Rock Bottom Restaurant &amp; Brewery</td>\n",
       "      <td>3.5</td>\n",
       "      <td>4.0</td>\n",
       "      <td>2.5</td>\n",
       "      <td>3.5</td>\n",
       "    </tr>\n",
       "    <tr>\n",
       "      <th>4</th>\n",
       "      <td>Boston Beer Company (Samuel Adams)</td>\n",
       "      <td>4.0</td>\n",
       "      <td>3.5</td>\n",
       "      <td>3.5</td>\n",
       "      <td>3.5</td>\n",
       "    </tr>\n",
       "  </tbody>\n",
       "</table>\n",
       "</div>"
      ],
      "text/plain": [
       "                         brewery_name  review_aroma  review_appearance  \\\n",
       "0      Kirin Brewery Company, Limited           1.5                3.0   \n",
       "1         Huisbrouwerij Klein Duimpje           3.0                4.0   \n",
       "2           Southampton Publick House           3.0                3.5   \n",
       "3    Rock Bottom Restaurant & Brewery           3.5                4.0   \n",
       "4  Boston Beer Company (Samuel Adams)           4.0                3.5   \n",
       "\n",
       "   review_palate  review_taste  \n",
       "0            3.0           3.5  \n",
       "1            3.5           3.5  \n",
       "2            4.0           3.5  \n",
       "3            2.5           3.5  \n",
       "4            3.5           3.5  "
      ]
     },
     "execution_count": 6,
     "metadata": {},
     "output_type": "execute_result"
    }
   ],
   "source": [
    "X_train.head()"
   ]
  },
  {
   "cell_type": "markdown",
   "metadata": {},
   "source": [
    "### Data Pipeline"
   ]
  },
  {
   "cell_type": "code",
   "execution_count": 7,
   "metadata": {},
   "outputs": [],
   "source": [
    "pipe = Pipeline([\n",
    "    ('bin_encoder', BinaryEncoder(cols=['brewery_name'])),\n",
    "    ('scaler', StandardScaler())\n",
    "])"
   ]
  },
  {
   "cell_type": "code",
   "execution_count": 8,
   "metadata": {},
   "outputs": [],
   "source": [
    "X_train_trans = pipe.fit_transform(X_train)\n",
    "X_val_trans = pipe.transform(X_val)\n",
    "X_test_trans = pipe.transform(X_test)"
   ]
  },
  {
   "cell_type": "code",
   "execution_count": 40,
   "metadata": {},
   "outputs": [
    {
     "data": {
      "text/plain": [
       "(951968, 18)"
      ]
     },
     "execution_count": 40,
     "metadata": {},
     "output_type": "execute_result"
    }
   ],
   "source": [
    "X_train_trans.shape"
   ]
  },
  {
   "cell_type": "code",
   "execution_count": 9,
   "metadata": {},
   "outputs": [
    {
     "data": {
      "text/plain": [
       "18"
      ]
     },
     "execution_count": 9,
     "metadata": {},
     "output_type": "execute_result"
    }
   ],
   "source": [
    "n_features = X_train_trans.shape[1]\n",
    "n_features"
   ]
  },
  {
   "cell_type": "code",
   "execution_count": 10,
   "metadata": {},
   "outputs": [
    {
     "data": {
      "text/plain": [
       "104"
      ]
     },
     "execution_count": 10,
     "metadata": {},
     "output_type": "execute_result"
    }
   ],
   "source": [
    "n_classes = y_train['beer_style'].nunique()\n",
    "n_classes"
   ]
  },
  {
   "cell_type": "markdown",
   "metadata": {},
   "source": [
    "### Encoding - Label "
   ]
  },
  {
   "cell_type": "code",
   "execution_count": 11,
   "metadata": {},
   "outputs": [
    {
     "name": "stderr",
     "output_type": "stream",
     "text": [
      "/opt/conda/lib/python3.7/site-packages/sklearn/preprocessing/_label.py:251: DataConversionWarning: A column-vector y was passed when a 1d array was expected. Please change the shape of y to (n_samples, ), for example using ravel().\n",
      "  y = column_or_1d(y, warn=True)\n",
      "/opt/conda/lib/python3.7/site-packages/sklearn/preprocessing/_label.py:268: DataConversionWarning: A column-vector y was passed when a 1d array was expected. Please change the shape of y to (n_samples, ), for example using ravel().\n",
      "  y = column_or_1d(y, warn=True)\n"
     ]
    }
   ],
   "source": [
    "le = LabelEncoder()\n",
    "y_train_trans = le.fit_transform(y_train)\n",
    "y_val_trans = le.fit_transform(y_val)\n",
    "y_test_trans = le.transform(y_test)"
   ]
  },
  {
   "cell_type": "code",
   "execution_count": 152,
   "metadata": {},
   "outputs": [
    {
     "data": {
      "text/plain": [
       "array([98, 89,  2, ..., 37, 94, 98])"
      ]
     },
     "execution_count": 152,
     "metadata": {},
     "output_type": "execute_result"
    }
   ],
   "source": [
    "y_test_trans"
   ]
  },
  {
   "cell_type": "markdown",
   "metadata": {},
   "source": [
    "### Convert to Pytorch Tensor"
   ]
  },
  {
   "cell_type": "code",
   "execution_count": 12,
   "metadata": {},
   "outputs": [
    {
     "data": {
      "text/plain": [
       "device(type='cpu')"
      ]
     },
     "execution_count": 12,
     "metadata": {},
     "output_type": "execute_result"
    }
   ],
   "source": [
    "device = get_device()\n",
    "device"
   ]
  },
  {
   "cell_type": "code",
   "execution_count": 13,
   "metadata": {},
   "outputs": [],
   "source": [
    "train_dataset = PytorchDataset(X=X_train_trans, y=y_train_trans)\n",
    "val_dataset = PytorchDataset(X=X_val_trans, y=y_val_trans)\n",
    "test_dataset = PytorchDataset(X=X_test_trans, y=y_test_trans)"
   ]
  },
  {
   "cell_type": "markdown",
   "metadata": {},
   "source": [
    "### Classification Model"
   ]
  },
  {
   "cell_type": "code",
   "execution_count": 14,
   "metadata": {},
   "outputs": [
    {
     "data": {
      "text/plain": [
       "PytorchClassification_2(\n",
       "  (layer_1): Linear(in_features=18, out_features=512, bias=True)\n",
       "  (batchnorm1): BatchNorm1d(512, eps=1e-05, momentum=0.1, affine=True, track_running_stats=True)\n",
       "  (layer_2): Linear(in_features=512, out_features=128, bias=True)\n",
       "  (batchnorm2): BatchNorm1d(128, eps=1e-05, momentum=0.1, affine=True, track_running_stats=True)\n",
       "  (layer_3): Linear(in_features=128, out_features=64, bias=True)\n",
       "  (batchnorm3): BatchNorm1d(64, eps=1e-05, momentum=0.1, affine=True, track_running_stats=True)\n",
       "  (layer_out): Linear(in_features=64, out_features=104, bias=True)\n",
       "  (relu): ReLU()\n",
       "  (dropout): Dropout(p=0.2, inplace=False)\n",
       ")"
      ]
     },
     "execution_count": 14,
     "metadata": {},
     "output_type": "execute_result"
    }
   ],
   "source": [
    "model = PytorchClassification_2(n_features=n_features, n_classes=n_classes)\n",
    "model.to(device)"
   ]
  },
  {
   "cell_type": "code",
   "execution_count": 15,
   "metadata": {},
   "outputs": [],
   "source": [
    "criterion = nn.CrossEntropyLoss()"
   ]
  },
  {
   "cell_type": "code",
   "execution_count": 16,
   "metadata": {},
   "outputs": [],
   "source": [
    "optimizer = torch.optim.Adam(model.parameters(), lr=0.001)"
   ]
  },
  {
   "cell_type": "markdown",
   "metadata": {},
   "source": [
    "## Train the Model"
   ]
  },
  {
   "cell_type": "code",
   "execution_count": 17,
   "metadata": {},
   "outputs": [],
   "source": [
    "N_EPOCHS = 20\n",
    "BATCH_SIZE = 512\n",
    "scheduler = torch.optim.lr_scheduler.StepLR(optimizer, 1, gamma=0.9)"
   ]
  },
  {
   "cell_type": "code",
   "execution_count": 18,
   "metadata": {},
   "outputs": [
    {
     "name": "stdout",
     "output_type": "stream",
     "text": [
      "Started: 2021-07-13 07:52:17.349693\n",
      "Epoch: 0\n",
      "\t(train)\tLoss: 0.0064\t|\tAcc: 19.4%\n",
      "\t(valid)\tLoss: 0.0055\t|\tAcc: 26.1%\n",
      "Epoch: 1\n",
      "\t(train)\tLoss: 0.0057\t|\tAcc: 23.7%\n",
      "\t(valid)\tLoss: 0.0053\t|\tAcc: 27.2%\n",
      "Epoch: 2\n",
      "\t(train)\tLoss: 0.0056\t|\tAcc: 24.6%\n",
      "\t(valid)\tLoss: 0.0051\t|\tAcc: 27.8%\n",
      "Epoch: 3\n",
      "\t(train)\tLoss: 0.0055\t|\tAcc: 25.1%\n",
      "\t(valid)\tLoss: 0.0051\t|\tAcc: 28.1%\n",
      "Epoch: 4\n",
      "\t(train)\tLoss: 0.0054\t|\tAcc: 25.4%\n",
      "\t(valid)\tLoss: 0.0050\t|\tAcc: 28.3%\n",
      "Epoch: 5\n",
      "\t(train)\tLoss: 0.0054\t|\tAcc: 25.7%\n",
      "\t(valid)\tLoss: 0.0050\t|\tAcc: 28.4%\n",
      "Epoch: 6\n",
      "\t(train)\tLoss: 0.0053\t|\tAcc: 25.8%\n",
      "\t(valid)\tLoss: 0.0050\t|\tAcc: 28.6%\n",
      "Epoch: 7\n",
      "\t(train)\tLoss: 0.0053\t|\tAcc: 26.1%\n",
      "\t(valid)\tLoss: 0.0049\t|\tAcc: 28.8%\n",
      "Epoch: 8\n",
      "\t(train)\tLoss: 0.0053\t|\tAcc: 26.2%\n",
      "\t(valid)\tLoss: 0.0049\t|\tAcc: 28.9%\n",
      "Epoch: 9\n",
      "\t(train)\tLoss: 0.0053\t|\tAcc: 26.3%\n",
      "\t(valid)\tLoss: 0.0049\t|\tAcc: 29.1%\n",
      "Epoch: 10\n",
      "\t(train)\tLoss: 0.0052\t|\tAcc: 26.4%\n",
      "\t(valid)\tLoss: 0.0049\t|\tAcc: 29.1%\n",
      "Epoch: 11\n",
      "\t(train)\tLoss: 0.0052\t|\tAcc: 26.5%\n",
      "\t(valid)\tLoss: 0.0049\t|\tAcc: 29.2%\n",
      "Epoch: 12\n",
      "\t(train)\tLoss: 0.0052\t|\tAcc: 26.6%\n",
      "\t(valid)\tLoss: 0.0049\t|\tAcc: 29.3%\n",
      "Epoch: 13\n",
      "\t(train)\tLoss: 0.0052\t|\tAcc: 26.7%\n",
      "\t(valid)\tLoss: 0.0049\t|\tAcc: 29.2%\n",
      "Epoch: 14\n",
      "\t(train)\tLoss: 0.0052\t|\tAcc: 26.8%\n",
      "\t(valid)\tLoss: 0.0049\t|\tAcc: 29.3%\n",
      "Epoch: 15\n",
      "\t(train)\tLoss: 0.0052\t|\tAcc: 26.8%\n",
      "\t(valid)\tLoss: 0.0048\t|\tAcc: 29.5%\n",
      "Epoch: 16\n",
      "\t(train)\tLoss: 0.0052\t|\tAcc: 26.8%\n",
      "\t(valid)\tLoss: 0.0048\t|\tAcc: 29.5%\n",
      "Epoch: 17\n",
      "\t(train)\tLoss: 0.0052\t|\tAcc: 26.9%\n",
      "\t(valid)\tLoss: 0.0048\t|\tAcc: 29.5%\n",
      "Epoch: 18\n",
      "\t(train)\tLoss: 0.0052\t|\tAcc: 26.9%\n",
      "\t(valid)\tLoss: 0.0048\t|\tAcc: 29.5%\n",
      "Epoch: 19\n",
      "\t(train)\tLoss: 0.0052\t|\tAcc: 27.0%\n",
      "\t(valid)\tLoss: 0.0048\t|\tAcc: 29.5%\n",
      "Ended: 2021-07-13 08:29:46.787500\n",
      "Runtime: 0:37:29.437807\n"
     ]
    }
   ],
   "source": [
    "start_time = datetime.now()\n",
    "print(f'Started: {start_time}')\n",
    "for epoch in range(N_EPOCHS):\n",
    "    train_loss, train_acc = train_classification(train_dataset,\n",
    "                                                 model=model,\n",
    "                                                 criterion=criterion, \n",
    "                                                 optimizer=optimizer,\n",
    "                                                 batch_size=BATCH_SIZE,\n",
    "                                                 device=device,\n",
    "                                                 scheduler=scheduler)\n",
    "    valid_loss, valid_acc = test_classification(val_dataset,\n",
    "                                                model=model,\n",
    "                                                criterion=criterion, \n",
    "                                                batch_size=BATCH_SIZE, \n",
    "                                                device=device)\n",
    "\n",
    "    print(f'Epoch: {epoch}')\n",
    "    print(f'\\t(train)\\tLoss: {train_loss:.4f}\\t|\\tAcc: {train_acc * 100:.1f}%')\n",
    "    print(f'\\t(valid)\\tLoss: {valid_loss:.4f}\\t|\\tAcc: {valid_acc * 100:.1f}%')\n",
    "\n",
    "end_time = datetime.now()\n",
    "runtime = end_time - start_time\n",
    "print(f'Ended: {end_time}')\n",
    "print(f'Runtime: {runtime}')"
   ]
  },
  {
   "cell_type": "markdown",
   "metadata": {},
   "source": [
    "### Retrain the model with lesser EPOCH"
   ]
  },
  {
   "cell_type": "code",
   "execution_count": null,
   "metadata": {},
   "outputs": [],
   "source": [
    "N_EPOCHS = 20\n",
    "BATCH_SIZE = 4096\n",
    "scheduler = torch.optim.lr_scheduler.StepLR(optimizer, 1, gamma=0.9)"
   ]
  },
  {
   "cell_type": "code",
   "execution_count": null,
   "metadata": {},
   "outputs": [],
   "source": [
    "start_time = datetime.now()\n",
    "print(f'Started: {start_time}')\n",
    "for epoch in range(N_EPOCHS):\n",
    "    train_loss, train_acc = train_classification(train_dataset,\n",
    "                                                 model=model,\n",
    "                                                 criterion=criterion,\n",
    "                                                 optimizer=optimizer,\n",
    "                                                 batch_size=BATCH_SIZE,\n",
    "                                                 device=device,\n",
    "                                                 scheduler=scheduler)\n",
    "    valid_loss, valid_acc = test_classification(val_dataset,\n",
    "                                                model=model,\n",
    "                                                criterion=criterion,\n",
    "                                                batch_size=BATCH_SIZE,\n",
    "                                                device=device)\n",
    "\n",
    "    print(f'Epoch: {epoch}')\n",
    "    print(f'\\t(train)\\tLoss: {train_loss:.4f}\\t|\\tAcc: {train_acc * 100:.1f}%')\n",
    "    print(f'\\t(valid)\\tLoss: {valid_loss:.4f}\\t|\\tAcc: {valid_acc * 100:.1f}%')\n",
    "\n",
    "end_time = datetime.now()\n",
    "runtime = end_time - start_time\n",
    "print(f'Ended: {end_time}')\n",
    "print(f'Runtime: {runtime}')"
   ]
  },
  {
   "cell_type": "markdown",
   "metadata": {},
   "source": [
    "### Prediction"
   ]
  },
  {
   "cell_type": "code",
   "execution_count": 42,
   "metadata": {},
   "outputs": [
    {
     "data": {
      "text/plain": [
       "PytorchClassification_2(\n",
       "  (layer_1): Linear(in_features=18, out_features=256, bias=True)\n",
       "  (batchnorm1): BatchNorm1d(256, eps=1e-05, momentum=0.1, affine=True, track_running_stats=True)\n",
       "  (layer_2): Linear(in_features=256, out_features=128, bias=True)\n",
       "  (batchnorm2): BatchNorm1d(128, eps=1e-05, momentum=0.1, affine=True, track_running_stats=True)\n",
       "  (layer_out): Linear(in_features=128, out_features=104, bias=True)\n",
       "  (relu): ReLU()\n",
       "  (dropout): Dropout(p=0.2, inplace=False)\n",
       ")"
      ]
     },
     "execution_count": 42,
     "metadata": {},
     "output_type": "execute_result"
    }
   ],
   "source": [
    "model.to('cpu')\n",
    "preds = model(test_dataset.X_tensor).argmax(1)\n",
    "preds\n",
    "model.to(device)"
   ]
  },
  {
   "cell_type": "markdown",
   "metadata": {},
   "source": [
    "## Evaluation\n",
    "\n",
    "### Classification Report"
   ]
  },
  {
   "cell_type": "code",
   "execution_count": 44,
   "metadata": {},
   "outputs": [
    {
     "name": "stdout",
     "output_type": "stream",
     "text": [
      "                                     precision    recall  f1-score   support\n",
      "\n",
      "                            Altbier       0.34      0.35      0.34      1521\n",
      "             American Adjunct Lager       0.54      0.73      0.62      6085\n",
      "           American Amber / Red Ale       0.18      0.23      0.21      9288\n",
      "         American Amber / Red Lager       0.31      0.33      0.32      1887\n",
      "                American Barleywine       0.22      0.04      0.07      5390\n",
      "                 American Black Ale       0.41      0.05      0.09      2394\n",
      "                American Blonde Ale       0.19      0.04      0.07      2594\n",
      "                 American Brown Ale       0.25      0.10      0.14      5066\n",
      "            American Dark Wheat Ale       0.00      0.00      0.00       296\n",
      "     American Double / Imperial IPA       0.26      0.36      0.30     17159\n",
      " American Double / Imperial Pilsner       0.19      0.01      0.03      1109\n",
      "   American Double / Imperial Stout       0.36      0.47      0.40     10187\n",
      "                       American IPA       0.20      0.46      0.28     23356\n",
      "               American Malt Liquor       0.74      0.23      0.35       759\n",
      "            American Pale Ale (APA)       0.17      0.18      0.18     12479\n",
      "                American Pale Lager       0.41      0.20      0.27      1871\n",
      "            American Pale Wheat Ale       0.19      0.17      0.17      4900\n",
      "                    American Porter       0.22      0.24      0.23     10097\n",
      "                     American Stout       0.21      0.28      0.24      4966\n",
      "                American Strong Ale       0.26      0.41      0.31      6335\n",
      "                  American Wild Ale       0.30      0.37      0.33      3494\n",
      "                      Baltic Porter       0.43      0.42      0.43      2322\n",
      "                   Belgian Dark Ale       0.14      0.03      0.04      1278\n",
      "                        Belgian IPA       0.39      0.18      0.24      2428\n",
      "                   Belgian Pale Ale       0.48      0.26      0.33      3954\n",
      "            Belgian Strong Dark Ale       0.39      0.38      0.38      7511\n",
      "            Belgian Strong Pale Ale       0.42      0.28      0.33      6181\n",
      "                 Berliner Weissbier       0.45      0.19      0.27       712\n",
      "    Bière de Champagne / Bière Brut       0.43      0.06      0.10       211\n",
      "                     Bière de Garde       0.45      0.40      0.42      1340\n",
      "                        Black & Tan       0.85      0.16      0.26       459\n",
      "                               Bock       0.12      0.28      0.17      2323\n",
      "                            Braggot       0.00      0.00      0.00       207\n",
      "     California Common / Steam Beer       0.24      0.23      0.24       809\n",
      "                         Chile Beer       0.95      0.16      0.27       496\n",
      "                          Cream Ale       0.22      0.13      0.16      1052\n",
      "                     Czech Pilsener       0.60      0.32      0.42      2484\n",
      "                         Doppelbock       0.41      0.34      0.37      4380\n",
      "          Dortmunder / Export Lager       0.31      0.18      0.22       928\n",
      "                             Dubbel       0.34      0.20      0.25      4036\n",
      "                       Dunkelweizen       0.31      0.00      0.01      1426\n",
      "                            Eisbock       0.26      0.24      0.25       506\n",
      "                 English Barleywine       0.48      0.18      0.26      2798\n",
      "                     English Bitter       0.21      0.18      0.19      1783\n",
      "                  English Brown Ale       0.35      0.28      0.31      3870\n",
      "              English Dark Mild Ale       0.63      0.08      0.14       482\n",
      "       English India Pale Ale (IPA)       0.22      0.13      0.17      3218\n",
      "                   English Pale Ale       0.38      0.47      0.42      4631\n",
      "              English Pale Mild Ale       0.00      0.00      0.00       135\n",
      "                     English Porter       0.37      0.25      0.30      2225\n",
      "                      English Stout       0.27      0.06      0.10       605\n",
      "                 English Strong Ale       0.29      0.19      0.23       982\n",
      "                    Euro Dark Lager       0.26      0.17      0.21       916\n",
      "                    Euro Pale Lager       0.52      0.70      0.60      3673\n",
      "                  Euro Strong Lager       0.45      0.18      0.26       542\n",
      "Extra Special / Strong Bitter (ESB)       0.24      0.08      0.12      3539\n",
      "                               Faro       0.00      0.00      0.00       117\n",
      "                 Flanders Oud Bruin       0.39      0.26      0.31       944\n",
      "                   Flanders Red Ale       0.72      0.64      0.68      1332\n",
      "             Foreign / Export Stout       0.46      0.36      0.41      1185\n",
      "             Fruit / Vegetable Beer       0.26      0.38      0.31      6710\n",
      "                    German Pilsener       0.32      0.32      0.32      4416\n",
      "                               Gose       0.59      0.64      0.62       119\n",
      "                             Gueuze       0.64      0.38      0.48      1206\n",
      "                           Happoshu       0.30      0.07      0.11        46\n",
      "                         Hefeweizen       0.34      0.29      0.32      5675\n",
      "               Herbed / Spiced Beer       0.25      0.07      0.11      2081\n",
      "                    Irish Dry Stout       0.63      0.52      0.57      2537\n",
      "                      Irish Red Ale       0.45      0.12      0.19      1572\n",
      "                Japanese Rice Lager       0.65      0.88      0.75       308\n",
      "         Keller Bier / Zwickel Bier       0.36      0.15      0.21       525\n",
      "                      Kristalweizen       0.15      0.03      0.04       426\n",
      "                              Kvass       0.52      0.25      0.34        63\n",
      "                             Kölsch       0.41      0.21      0.28      1678\n",
      "                     Lambic - Fruit       0.55      0.74      0.63      2152\n",
      "                 Lambic - Unblended       0.46      0.11      0.17       227\n",
      "                        Light Lager       0.46      0.50      0.48      2759\n",
      "                   Low Alcohol Beer       0.44      0.06      0.11       222\n",
      "              Maibock / Helles Bock       0.17      0.10      0.12      2087\n",
      "                 Milk / Sweet Stout       0.31      0.45      0.37      2623\n",
      "                Munich Dunkel Lager       0.33      0.12      0.18      1566\n",
      "                Munich Helles Lager       0.34      0.12      0.18      1600\n",
      "               Märzen / Oktoberfest       0.31      0.11      0.16      4777\n",
      "                      Oatmeal Stout       0.27      0.23      0.25      3646\n",
      "                            Old Ale       0.46      0.23      0.31      2927\n",
      "                        Pumpkin Ale       0.36      0.14      0.20      3122\n",
      "                   Quadrupel (Quad)       0.44      0.43      0.43      3737\n",
      "                          Rauchbier       0.65      0.56      0.60       817\n",
      "                         Roggenbier       0.52      0.14      0.22       101\n",
      "             Russian Imperial Stout       0.32      0.42      0.36     10792\n",
      "                           Rye Beer       0.31      0.12      0.18      2054\n",
      "                              Sahti       0.97      0.17      0.28       198\n",
      "             Saison / Farmhouse Ale       0.36      0.43      0.39      6327\n",
      "                        Schwarzbier       0.31      0.30      0.30      1956\n",
      "             Scotch Ale / Wee Heavy       0.32      0.22      0.26      3460\n",
      "                       Scottish Ale       0.39      0.28      0.33      1827\n",
      "Scottish Gruit / Ancient Herbed Ale       0.88      0.75      0.81       557\n",
      "                        Smoked Beer       0.10      0.00      0.00       556\n",
      "                             Tripel       0.26      0.21      0.24      6074\n",
      "                       Vienna Lager       0.18      0.08      0.11      1865\n",
      "                         Weizenbock       0.56      0.30      0.39      1922\n",
      "                          Wheatwine       0.00      0.00      0.00       731\n",
      "                      Winter Warmer       0.30      0.17      0.22      4130\n",
      "                            Witbier       0.30      0.19      0.23      5896\n",
      "\n",
      "                           accuracy                           0.30    317323\n",
      "                          macro avg       0.36      0.25      0.27    317323\n",
      "                       weighted avg       0.32      0.30      0.29    317323\n",
      "\n"
     ]
    }
   ],
   "source": [
    "report = classification_report(y_test, le.inverse_transform(preds.cpu()))\n",
    "print(report)"
   ]
  },
  {
   "cell_type": "markdown",
   "metadata": {},
   "source": [
    "## Save Objects for Production\n",
    "\n",
    "### Save model"
   ]
  },
  {
   "cell_type": "code",
   "execution_count": 45,
   "metadata": {},
   "outputs": [],
   "source": [
    "path = models_dir / f'{artefact_prefix}_model'\n",
    "torch.save(model, path.with_suffix('.torch'))"
   ]
  },
  {
   "cell_type": "markdown",
   "metadata": {},
   "source": [
    "### Save Pipe Object"
   ]
  },
  {
   "cell_type": "code",
   "execution_count": 46,
   "metadata": {},
   "outputs": [
    {
     "data": {
      "text/plain": [
       "['/home/jovyan/work/models/1_pytorch_pipe.sav']"
      ]
     },
     "execution_count": 46,
     "metadata": {},
     "output_type": "execute_result"
    }
   ],
   "source": [
    "X = pd.concat([X_train, X_val, X_test])\n",
    "prod_pipe = create_preprocessing_pipe(X)\n",
    "\n",
    "path = models_dir / f'{artefact_prefix}_pipe'\n",
    "dump(prod_pipe, path.with_suffix('.sav'))"
   ]
  },
  {
   "cell_type": "markdown",
   "metadata": {},
   "source": [
    "### Save the label encoder\n",
    "\n",
    "This is required to retrive the name of the beer_style."
   ]
  },
  {
   "cell_type": "code",
   "execution_count": 47,
   "metadata": {},
   "outputs": [
    {
     "data": {
      "text/plain": [
       "['/home/jovyan/work/models/1_pytorch_label_encoder.sav']"
      ]
     },
     "execution_count": 47,
     "metadata": {},
     "output_type": "execute_result"
    }
   ],
   "source": [
    "path = models_dir / f'{artefact_prefix}_label_encoder'\n",
    "dump(le, path.with_suffix('.sav'))"
   ]
  }
 ],
 "metadata": {
  "kernelspec": {
   "display_name": "Python 3",
   "language": "python",
   "name": "python3"
  },
  "language_info": {
   "codemirror_mode": {
    "name": "ipython",
    "version": 3
   },
   "file_extension": ".py",
   "mimetype": "text/x-python",
   "name": "python",
   "nbconvert_exporter": "python",
   "pygments_lexer": "ipython3",
   "version": "3.8.5"
  }
 },
 "nbformat": 4,
 "nbformat_minor": 4
}
